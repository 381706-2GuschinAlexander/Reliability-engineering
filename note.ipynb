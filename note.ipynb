{
 "cells": [
  {
   "cell_type": "code",
   "execution_count": 79,
   "metadata": {},
   "outputs": [],
   "source": [
    "import numpy as np\n",
    "from math import erf\n",
    "from math import gamma\n",
    "import matplotlib.pyplot as plt\n",
    "from scipy.optimize import fsolve\n",
    "\n",
    "def getNormal(mean, div):\n",
    "    def f(x):\n",
    "        return 0.5*(1 + erf( (x - mean)/ (div * 2**0.5) ))\n",
    "    return f\n",
    "\n",
    "\n",
    "Exp_P = lambda la, t: np.e**(-la*t)\n",
    "\n",
    "Phi = lambda x: erf(x/2**0.5)/2\n",
    "\n",
    "J = lambda d : (np.pi * d**4) / 32\n",
    "\n",
    "Wr = lambda d :(np.pi * d**3) / 16\n",
    "\n",
    "def mystep(x,y, ax=None, where='post', **kwargs):\n",
    "    assert where in ['post', 'pre']\n",
    "    x = np.array(x)\n",
    "    y = np.array(y)\n",
    "    if where=='post': y_slice = y[:-1]\n",
    "    if where=='pre': y_slice = y[1:]\n",
    "    X = np.c_[x[:-1],x[1:],x[1:]]\n",
    "    Y = np.c_[y_slice, y_slice, np.zeros_like(x[:-1])*np.nan]\n",
    "    if not ax: ax=plt.gca()\n",
    "    return ax.plot(X.flatten(), Y.flatten(), **kwargs)\n",
    "\n",
    "def Xi(borders, freq, N, alpha, mu):\n",
    "    get_P  = lambda t : (np.e**(-mu*t**alpha))\n",
    "    l = len(borders)\n",
    "    Phi_list = 1 - get_P(np.array(x))\n",
    "    P=[0]*(l-1)\n",
    "    for i in range(l-1):\n",
    "        P[i]=Phi_list[i+1]-Phi_list[i]\n",
    "    ni = N * np.array(P)\n",
    "    print(\"Fi\", Phi_list)\n",
    "    print(\"P\", P)\n",
    "    print(\"ni\", ni)\n",
    "    return (((np.array(freq) - ni)**2)/ni)\n",
    "\n",
    "def D(x, t, N):\n",
    "    E = (x*t/N).sum()\n",
    "    print(\"E=\", E)\n",
    "    return (t*(x**2)).sum()/N - E**2"
   ]
  },
  {
   "cell_type": "markdown",
   "metadata": {},
   "source": [
    "Задание 1."
   ]
  },
  {
   "cell_type": "code",
   "execution_count": 70,
   "metadata": {},
   "outputs": [
    {
     "name": "stdout",
     "output_type": "stream",
     "text": [
      "N(t) [45, 26, 13, 5, 2, 2, 1, 0]\n",
      "E= 20.888888888888886\n",
      "Avg T 20.88888888888889\n",
      "Avg T^2 613.3333333333334\n",
      "Des -63.942935528120685\n",
      "P(t) [1.0, 0.5777777777777777, 0.28888888888888886, 0.1111111111111111, 0.044444444444444446, 0.044444444444444446, 0.022222222222222223]\n",
      "Frequency(t) [0.042222222222222223, 0.028888888888888888, 0.017777777777777778, 0.006666666666666667, 0.0, 0.0022222222222222222, 0.0022222222222222222]\n",
      "Intesity [0.05352112676056338, 0.06666666666666667, 0.08888888888888889, 0.08571428571428572, 0.0, 0.06666666666666667, 0.2]\n",
      "Mu: 0.0, Alpha: 149461.49371822545\n"
     ]
    },
    {
     "name": "stderr",
     "output_type": "stream",
     "text": [
      "C:\\Users\\igush\\AppData\\Local\\Programs\\Python\\Python39\\lib\\site-packages\\scipy\\optimize\\minpack.py:175: RuntimeWarning: The iteration is not making good progress, as measured by the \n",
      "  improvement from the last ten iterations.\n",
      "  warnings.warn(msg, RuntimeWarning)\n",
      "C:\\Users\\igush\\AppData\\Local\\Temp/ipykernel_7568/3950142622.py:67: RuntimeWarning: overflow encountered in power\n",
      "  get_P  = lambda t : (np.e**(-mu*t**alpha))\n",
      "C:\\Users\\igush\\AppData\\Local\\Temp/ipykernel_7568/3950142622.py:67: RuntimeWarning: invalid value encountered in multiply\n",
      "  get_P  = lambda t : (np.e**(-mu*t**alpha))\n",
      "C:\\Users\\igush\\AppData\\Local\\Temp/ipykernel_7568/3950142622.py:66: RuntimeWarning: overflow encountered in power\n",
      "  get_f  = lambda t : (np.e**(-mu*t**alpha))*mu*alpha*t**(alpha-1)\n",
      "C:\\Users\\igush\\AppData\\Local\\Temp/ipykernel_7568/3950142622.py:66: RuntimeWarning: invalid value encountered in multiply\n",
      "  get_f  = lambda t : (np.e**(-mu*t**alpha))*mu*alpha*t**(alpha-1)\n",
      "C:\\Users\\igush\\AppData\\Local\\Temp/ipykernel_7568/3950142622.py:68: RuntimeWarning: overflow encountered in power\n",
      "  get_la = lambda t : mu * alpha * t**(alpha - 1)\n",
      "C:\\Users\\igush\\AppData\\Local\\Temp/ipykernel_7568/3950142622.py:68: RuntimeWarning: invalid value encountered in multiply\n",
      "  get_la = lambda t : mu * alpha * t**(alpha - 1)\n"
     ]
    },
    {
     "data": {
      "image/png": "[encoded data removed]",
      "text/plain": [
       "<Figure size 1332x756 with 3 Axes>"
      ]
     },
     "metadata": {
      "needs_background": "light"
     },
     "output_type": "display_data"
    },
    {
     "name": "stdout",
     "output_type": "stream",
     "text": [
      "Fi [ 0. nan nan nan nan nan nan nan]\n",
      "P [nan, nan, nan, nan, nan, nan, nan]\n",
      "ni [nan nan nan nan nan nan nan]\n"
     ]
    },
    {
     "name": "stderr",
     "output_type": "stream",
     "text": [
      "C:\\Users\\igush\\AppData\\Local\\Temp/ipykernel_7568/4033744563.py:33: RuntimeWarning: overflow encountered in power\n",
      "  get_P  = lambda t : (np.e**(-mu*t**alpha))\n",
      "C:\\Users\\igush\\AppData\\Local\\Temp/ipykernel_7568/4033744563.py:33: RuntimeWarning: invalid value encountered in multiply\n",
      "  get_P  = lambda t : (np.e**(-mu*t**alpha))\n"
     ]
    },
    {
     "data": {
      "text/plain": [
       "nan"
      ]
     },
     "execution_count": 70,
     "metadata": {},
     "output_type": "execute_result"
    }
   ],
   "source": [
    "N = 45\n",
    "dt = 10\n",
    "failture_t = [19, 13, 8, 3, 0, 1, 1]\n",
    "length = len(failture_t)\n",
    "N_list = [N]*(length + 1)\n",
    "\n",
    "for i in range(length):\n",
    "    N_list[i+1] = N_list[i] - failture_t[i]\n",
    "\n",
    "print(\"N(t)\",N_list)\n",
    "fig, ax = plt.subplots(3)\n",
    "fig.set_size_inches(18.5, 10.5)\n",
    "ax[2].set_xlabel(\"t мин\")\n",
    "[ ax[i].set_xlim(0, 70) for i in range(3) ]\n",
    "\n",
    "x = [0, 10, 20, 30, 40 , 50, 60, 70]\n",
    "\n",
    "mean  = (np.array([0] + failture_t) * np.array(x)).sum()/N\n",
    "\n",
    "mean2 = (np.array([0] + failture_t) * (np.array(x)**2)).sum()/N\n",
    "\n",
    "Dis = D(np.array(x), np.array([0]+failture_t), N)\n",
    "print(\"Avg T\", mean)\n",
    "print(\"Avg T^2\", mean2)\n",
    "print(\"Des\", Dis)\n",
    "#print(np.array([0] + failture_t) * np.array(x), np.array([0] + failture_t) * (np.array(x)**2))\n",
    "P = [1]*length\n",
    "for i in range(length):\n",
    "    P[i] = (N_list[i]/N)\n",
    "print(\"P(t)\", P)\n",
    "\n",
    "freq = [0]*length\n",
    "for i in range(length):\n",
    "    freq[i] = (failture_t[i]/(N*dt))\n",
    "print(\"Frequency(t)\", freq)\n",
    "\n",
    "la = [0]*length\n",
    "for i in range(length):\n",
    "    la[i] = (failture_t[i]/(0.5*(N_list[i] + N_list[i + 1])*dt))\n",
    "print(\"Intesity\", la)\n",
    "\n",
    "ax[0].set_ylabel(\"P(t)\")\n",
    "#ax[0].step(x, [P[0]] + P, linewidth=2.5, label=\"Значения выборки\")\n",
    "mystep(x,  P + [0], ax=ax[0], label=\"Значения выборки\")\n",
    "ax[0].set_ylim(0, 1.1)\n",
    "\n",
    "ax[1].set_ylabel(\"f(t)\")\n",
    "#ax[1].step(x, [freq[0]] + freq, linewidth=2.5)\n",
    "mystep(x,   freq + [0], ax=ax[1])\n",
    "ax[1].set_ylim(0, 0.07)\n",
    "\n",
    "ax[2].set_ylabel(\"Lamda(t)\")\n",
    "#ax[2].step(x, [la[0]] + la, linewidth=2.5)\n",
    "mystep(x,   la + [0], ax=ax[2])\n",
    "ax[2].set_ylim(0, 0.5)\n",
    "\n",
    "alpha = fsolve(lambda alp: Dis/mean**2 - gamma(1 + 2/alp)/(gamma(1 + 1/alp))**2 + 1, 1)[0]\n",
    "lamb = mean / gamma(1 + 1/alpha)\n",
    "mu = (1/lamb)**(alpha)\n",
    "\n",
    "\n",
    "\n",
    "\n",
    "\n",
    "print(\"Mu: {}, Alpha: {}\".format(mu, alpha))\n",
    "get_f  = lambda t : (np.e**(-mu*t**alpha))*mu*alpha*t**(alpha-1)\n",
    "get_P  = lambda t : (np.e**(-mu*t**alpha))\n",
    "get_la = lambda t : mu * alpha * t**(alpha - 1)\n",
    "weib_x = np.linspace(0, 70, 7000)\n",
    "ax[0].plot(weib_x, get_P(weib_x), \"g\", label=\"Распределение Вейбулла\")\n",
    "ax[1].plot(weib_x, get_f(weib_x), \"g\")\n",
    "ax[2].plot(weib_x, get_la(weib_x), \"g\")\n",
    "\n",
    "ax[0].legend(loc='upper right')\n",
    "\n",
    "plt.show()\n",
    "\n",
    "Xi(x, failture_t, N, alpha, mu).sum()\n"
   ]
  },
  {
   "cell_type": "markdown",
   "metadata": {},
   "source": [
    "Задание 2."
   ]
  },
  {
   "cell_type": "code",
   "execution_count": null,
   "metadata": {},
   "outputs": [],
   "source": []
  },
  {
   "cell_type": "markdown",
   "metadata": {},
   "source": [
    "Задание 3."
   ]
  },
  {
   "cell_type": "code",
   "execution_count": 71,
   "metadata": {},
   "outputs": [
    {
     "name": "stdout",
     "output_type": "stream",
     "text": [
      "[0.9900498337491681, 0.9801986733067553, 0.990049833749168]\n"
     ]
    }
   ],
   "source": [
    "\n",
    "la = 1e-6\n",
    "t = 1e4\n",
    "\n",
    "\n",
    "\n",
    "P = [Exp_P(la, t), Exp_P(la, 2*t), Exp_P(la, 2*t)/Exp_P(la, t)] \n",
    "print(P)"
   ]
  },
  {
   "cell_type": "markdown",
   "metadata": {},
   "source": [
    "Задание 4."
   ]
  },
  {
   "cell_type": "code",
   "execution_count": 72,
   "metadata": {},
   "outputs": [
    {
     "data": {
      "text/plain": [
       "1.305531149814636e-06"
      ]
     },
     "execution_count": 72,
     "metadata": {},
     "output_type": "execute_result"
    }
   ],
   "source": [
    "mu = 1e-4\n",
    "alpha = 0.4\n",
    "t = 300\n",
    "\n",
    "\n",
    "mu*alpha*t**(alpha - 1)"
   ]
  },
  {
   "cell_type": "markdown",
   "metadata": {},
   "source": [
    "Задание 5."
   ]
  },
  {
   "cell_type": "code",
   "execution_count": 73,
   "metadata": {},
   "outputs": [
    {
     "data": {
      "text/plain": [
       "0.5729848592934332"
      ]
     },
     "execution_count": 73,
     "metadata": {},
     "output_type": "execute_result"
    }
   ],
   "source": [
    "F  = lambda t, k: 2*np.e**(-3*k*t) - 3*np.e**(-2*k*t) + 1\n",
    "1 - F(6, 0.1)\n"
   ]
  },
  {
   "cell_type": "markdown",
   "metadata": {},
   "source": [
    "Задание 6."
   ]
  },
  {
   "cell_type": "code",
   "execution_count": 74,
   "metadata": {},
   "outputs": [
    {
     "data": {
      "text/plain": [
       "(0.4999000937930612, -0.49990007884333226)"
      ]
     },
     "execution_count": 74,
     "metadata": {},
     "output_type": "execute_result"
    }
   ],
   "source": [
    "G = 0.7e11\n",
    "\n",
    "\n",
    "#Solution\n",
    "\n",
    "x = 0.0187679\n",
    "x2= 0.0162628\n",
    "\n",
    "M = [40e3, 3e3]\n",
    "Teta = [60, 0.01]\n",
    "G = 0.7e11\n",
    "\n",
    "Phi((Teta[0]-M[0]/(J(x)*G)) / (Teta[1]**2 +  (M[1]/(J(x)*G))**(2))**(1/2)), Phi((Teta[0]-M[0]/(J(x2)*G)) / (Teta[1]**2 +  (M[1]/(J(x2)*G))**(2))**(1/2))\n"
   ]
  },
  {
   "cell_type": "markdown",
   "metadata": {},
   "source": [
    "Задание 7"
   ]
  },
  {
   "cell_type": "code",
   "execution_count": 75,
   "metadata": {},
   "outputs": [
    {
     "name": "stdout",
     "output_type": "stream",
     "text": [
      "T:  [262.14864799 225.12882372 210.00233336]\n"
     ]
    }
   ],
   "source": [
    "u0 = 2.3\n",
    "u_lim = 10.4\n",
    "u_max = u_lim - u0\n",
    "y_mean = 2.8e-2\n",
    "y_div  = 3.41e-3\n",
    "\n",
    "\n",
    "\n",
    "P = [0.8, 0.99, 0.999]\n",
    "\n",
    "normalize = lambda t: (u_max - y_mean * t) / (t*y_div)\n",
    "get_t     = lambda c: u_max/(c*y_div + y_mean)\n",
    "\n",
    "ret_value = np.array([0.85, 2.34, 3.1])\n",
    "\n",
    "0.5 + Phi(normalize(200))\n",
    "print(\"T: \",get_t(ret_value))\n"
   ]
  },
  {
   "cell_type": "markdown",
   "metadata": {},
   "source": [
    "Задание 8."
   ]
  },
  {
   "cell_type": "code",
   "execution_count": 76,
   "metadata": {},
   "outputs": [
    {
     "data": {
      "text/plain": [
       "0.991008"
      ]
     },
     "execution_count": 76,
     "metadata": {},
     "output_type": "execute_result"
    }
   ],
   "source": [
    "P1 = 0.9\n",
    "P2 = 0.8\n",
    "(1 - (1 - P1)**3)*(1 - (1 - P2)**3)"
   ]
  },
  {
   "cell_type": "markdown",
   "metadata": {},
   "source": [
    "Задание 9."
   ]
  },
  {
   "cell_type": "code",
   "execution_count": 77,
   "metadata": {},
   "outputs": [
    {
     "data": {
      "text/plain": [
       "0.9888697703604341"
      ]
     },
     "execution_count": 77,
     "metadata": {},
     "output_type": "execute_result"
    }
   ],
   "source": [
    "t = 100\n",
    "la = 1e-4\n",
    "Nv2 = (7200, 2000)\n",
    "u = 0.1e-5\n",
    "alpha = 1.5\n",
    "\n",
    "\n",
    "\n",
    "NoVar = getNormal(Nv2[0], Nv2[1])\n",
    "\n",
    "first = Exp_P(la, t)\n",
    "second = 0.5 - Phi((100 - Nv2[0])/ Nv2[1])\n",
    "third = np.e**(-u*(t**alpha))\n",
    "first*second*third\n",
    "\n",
    "\n"
   ]
  },
  {
   "cell_type": "code",
   "execution_count": 78,
   "metadata": {},
   "outputs": [
    {
     "data": {
      "text/plain": [
       "array([[-1.,  2.,  0.],\n",
       "       [ 2., -6.,  2.],\n",
       "       [ 0.,  2., -1.]])"
      ]
     },
     "execution_count": 78,
     "metadata": {},
     "output_type": "execute_result"
    }
   ],
   "source": [
    "d_minus = np.array([\n",
    "    [-1, 2],\n",
    "    [0, -1]\n",
    "    ])\n",
    "d_plus = np.array([\n",
    "    [1, 0],\n",
    "    [-2, 1]\n",
    "    ])\n",
    "\n",
    "#d_plus, d_minus = d_minus, d_plus\n",
    "\n",
    "res = np.zeros((3, 3))\n",
    "\n",
    "for i in range(2):\n",
    "    for j in range(2):\n",
    "        for i1 in range(2):\n",
    "            for j1 in range(2):\n",
    "                res[i + i1, j + j1] += d_minus[i,j] * d_plus[i1, j1]\n",
    "\n",
    "res\n"
   ]
  },
  {
   "cell_type": "code",
   "execution_count": null,
   "metadata": {},
   "outputs": [],
   "source": []
  }
 ],
 "metadata": {
  "interpreter": {
   "hash": "0598f53fe63fb372723d05d3ef99ea6b7f281f33acefaa541f698b315a4ebb74"
  },
  "kernelspec": {
   "display_name": "Python 3.9.7 64-bit",
   "language": "python",
   "name": "python3"
  },
  "language_info": {
   "codemirror_mode": {
    "name": "ipython",
    "version": 3
   },
   "file_extension": ".py",
   "mimetype": "text/x-python",
   "name": "python",
   "nbconvert_exporter": "python",
   "pygments_lexer": "ipython3",
   "version": "3.9.7"
  },
  "orig_nbformat": 4
 },
 "nbformat": 4,
 "nbformat_minor": 2
}
